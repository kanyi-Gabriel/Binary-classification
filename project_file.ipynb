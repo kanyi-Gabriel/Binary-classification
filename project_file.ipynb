{
 "cells": [
  {
   "cell_type": "markdown",
   "id": "5044b2ac-c766-490c-9cc3-27fbbaec4b41",
   "metadata": {},
   "source": [
    "# Binary classification using Pytorch"
   ]
  },
  {
   "cell_type": "code",
   "execution_count": 12,
   "id": "f243960c",
   "metadata": {},
   "outputs": [],
   "source": [
    "# Import required libraries\n",
    "import pandas as pd\n",
    "import torch\n",
    "import cv2\n",
    "import numpy as np\n",
    "import os\n",
    "import sys\n"
   ]
  },
  {
   "cell_type": "code",
   "execution_count": 13,
   "id": "b5d15cc6",
   "metadata": {},
   "outputs": [],
   "source": [
    "# Path to the training dataset\n",
    "train_dir = os.path.join(\"data_binary\", \"data\")"
   ]
  },
  {
   "cell_type": "code",
   "execution_count": 14,
   "id": "6beb3940",
   "metadata": {},
   "outputs": [
    {
     "data": {
      "text/plain": [
       "['antelope', 'blanks']"
      ]
     },
     "execution_count": 14,
     "metadata": {},
     "output_type": "execute_result"
    }
   ],
   "source": [
    "labels = os.listdir(train_dir)\n",
    "labels"
   ]
  },
  {
   "cell_type": "code",
   "execution_count": 15,
   "id": "23a93ded",
   "metadata": {},
   "outputs": [
    {
     "name": "stdout",
     "output_type": "stream",
     "text": [
      "Number of training antelops: 109\n",
      "Number of blank images: 140\n"
     ]
    }
   ],
   "source": [
    "# Determine he number of antelopes in the dataset\n",
    "antelope_path = os.path.join(train_dir, \"antelope\")\n",
    "antelope_imgs = os.listdir(antelope_path)\n",
    "print(f\"Number of training antelops: {len(antelope_imgs)}\")\n",
    "\n",
    "# Determine the nuber of blank images\n",
    "blank_path = os.path.join(train_dir, \"blanks\")\n",
    "blank_imgs = os.listdir(blank_path)\n",
    "print(f\"Number of blank images: {len(blank_imgs)}\")"
   ]
  },
  {
   "cell_type": "code",
   "execution_count": null,
   "id": "6b5cf01a",
   "metadata": {},
   "outputs": [],
   "source": []
  },
  {
   "cell_type": "code",
   "execution_count": null,
   "id": "60232dbd",
   "metadata": {},
   "outputs": [],
   "source": []
  }
 ],
 "metadata": {
  "kernelspec": {
   "display_name": "Python 3 (ipykernel)",
   "language": "python",
   "name": "python3"
  },
  "language_info": {
   "codemirror_mode": {
    "name": "ipython",
    "version": 3
   },
   "file_extension": ".py",
   "mimetype": "text/x-python",
   "name": "python",
   "nbconvert_exporter": "python",
   "pygments_lexer": "ipython3",
   "version": "3.11.13"
  }
 },
 "nbformat": 4,
 "nbformat_minor": 5
}
